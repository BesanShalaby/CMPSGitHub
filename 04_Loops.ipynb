{
 "cells": [
  {
   "cell_type": "markdown",
   "metadata": {},
   "source": [
    "# Chapter (4): Repetition Structures"
   ]
  },
  {
   "cell_type": "markdown",
   "metadata": {},
   "source": [
    "## Python has two primitive loop commands:\n",
    "\n",
    "- while loops\n",
    "- for loops\n"
   ]
  },
  {
   "cell_type": "markdown",
   "metadata": {},
   "source": [
    "## The while Loop\n",
    "With the while loop we can execute a set of statements as long as a condition is true."
   ]
  },
  {
   "cell_type": "code",
   "execution_count": null,
   "metadata": {},
   "outputs": [],
   "source": [
    "i = 1\n",
    "while i < 6:\n",
    "  print(i)\n",
    "  i += 1"
   ]
  },
  {
   "cell_type": "markdown",
   "metadata": {},
   "source": [
    "### Infinite Loops"
   ]
  },
  {
   "cell_type": "code",
   "execution_count": null,
   "metadata": {},
   "outputs": [],
   "source": [
    "i = 10\n",
    "while i>5:\n",
    "    print(i)\n",
    "    i=i+1\n",
    "    "
   ]
  },
  {
   "cell_type": "markdown",
   "metadata": {},
   "source": [
    "### Common Loop Errors"
   ]
  },
  {
   "cell_type": "code",
   "execution_count": null,
   "metadata": {},
   "outputs": [],
   "source": [
    "x =1\n",
    "while x <= 3:\n",
    "  print(\"Working inside while\")\n",
    "x = x + 1"
   ]
  },
  {
   "cell_type": "markdown",
   "metadata": {},
   "source": [
    "### The break Statement\n",
    "With the break statement we can stop the loop even if the while condition is true"
   ]
  },
  {
   "cell_type": "code",
   "execution_count": null,
   "metadata": {},
   "outputs": [],
   "source": [
    "i = 1\n",
    "while i < 6:\n",
    "  print(i)\n",
    "  if i == 3:\n",
    "    break\n",
    "  i += 1"
   ]
  },
  {
   "cell_type": "markdown",
   "metadata": {},
   "source": [
    "### The continue Statement\n",
    "With the continue statement we can stop the current iteration, and continue with the next"
   ]
  },
  {
   "cell_type": "code",
   "execution_count": null,
   "metadata": {},
   "outputs": [],
   "source": [
    "i = 0\n",
    "while i < 6:\n",
    "  i += 1\n",
    "  if i == 3:\n",
    "    continue\n",
    "  print(i)"
   ]
  },
  {
   "cell_type": "markdown",
   "metadata": {},
   "source": [
    "### Using the while Loop for Input Validation"
   ]
  },
  {
   "cell_type": "code",
   "execution_count": null,
   "metadata": {},
   "outputs": [],
   "source": [
    "grade = int(input(\"Enter the grade for the exam \"))\n",
    "while (grade<0 or grade>100):\n",
    "    print(\"invalide grade\")\n",
    "    print('Enter valid grade between 0 and 100')\n",
    "    grade = int(input(\"Enter the grade for the exam \"))\n",
    "\n",
    "print (grade)"
   ]
  },
  {
   "cell_type": "markdown",
   "metadata": {},
   "source": [
    "### Write a program that keeps asking the user to enter a number and checks if it is odd or even until the user enters 0 prints “Done…”\n"
   ]
  },
  {
   "cell_type": "code",
   "execution_count": null,
   "metadata": {},
   "outputs": [],
   "source": [
    "number = int (input('Enter a number to know if it is even or odd?: '))\n",
    "\n",
    "while number != 0:\n",
    "   \n",
    "    if number % 2 == 0:\n",
    "        print('Number is even!')\n",
    "    else:\n",
    "        print('number is odd!')\n",
    "    number = int (input('Enter a number to know if it is even or odd?: '))\n",
    "    \n",
    "print ('Done!')"
   ]
  },
  {
   "cell_type": "markdown",
   "metadata": {},
   "source": [
    "### The else Statement\n",
    "With the else statement we can run a block of code once when the condition no longer is true"
   ]
  },
  {
   "cell_type": "code",
   "execution_count": null,
   "metadata": {},
   "outputs": [],
   "source": [
    "i = 1\n",
    "while i < 6:\n",
    "  print(i)\n",
    "  i += 1\n",
    "else:\n",
    "  print(\"i is no longer less than 6\")"
   ]
  },
  {
   "cell_type": "markdown",
   "metadata": {},
   "source": [
    "## The for Loop\n",
    "A for loop is used for iterating over a sequence (that is either a list, a tuple, a dictionary, a set, or a string)."
   ]
  },
  {
   "cell_type": "code",
   "execution_count": null,
   "metadata": {},
   "outputs": [],
   "source": [
    "print('Display numbers from 1 to 5')\n",
    "for i in [1,2,3,4,5]:\n",
    "    print(i)\n",
    "print('Done!')"
   ]
  },
  {
   "cell_type": "code",
   "execution_count": null,
   "metadata": {},
   "outputs": [],
   "source": [
    "# Print each fruit i a fruit list\n",
    "fruits = [\"apple\", \"banana\", \"cherry\"] #list\n",
    "for x in fruits:\n",
    "  print(x)"
   ]
  },
  {
   "cell_type": "code",
   "execution_count": null,
   "metadata": {},
   "outputs": [],
   "source": [
    "# Loop through letters\n",
    "for x in \"Qatar\":\n",
    "    print(x)"
   ]
  },
  {
   "cell_type": "code",
   "execution_count": null,
   "metadata": {},
   "outputs": [],
   "source": [
    "# You can use break as we did in while loop\n",
    "fruits = [\"apple\", \"banana\", \"cherry\"]\n",
    "for x in fruits:\n",
    "  if x == \"banana\":\n",
    "    break\n",
    "  print(x)"
   ]
  },
  {
   "cell_type": "code",
   "execution_count": null,
   "metadata": {},
   "outputs": [],
   "source": [
    "# or you can use continue statement\n",
    "#  we can stop the current iteration of the loop, and continue with the next:\n",
    "fruits = [\"apple\", \"banana\", \"cherry\"]\n",
    "for x in fruits:\n",
    "  if x == \"banana\":\n",
    "    continue\n",
    "  print(x)"
   ]
  },
  {
   "cell_type": "markdown",
   "metadata": {},
   "source": [
    "### The range() Function \n",
    "To loop through a set of code a specified number of times, we can use the range() function.\n",
    "- The range() function returns a sequence of numbers, starting from 0 by default, and increments by 1 (by default), and ends at a specified number"
   ]
  },
  {
   "cell_type": "code",
   "execution_count": null,
   "metadata": {},
   "outputs": [],
   "source": [
    "for x in range(6):\n",
    "  print(x)"
   ]
  },
  {
   "cell_type": "markdown",
   "metadata": {},
   "source": [
    "- it is possible to specify the starting value by adding a parameter: range(2, 6), which means values from 2 to 6 (but not including 6):"
   ]
  },
  {
   "cell_type": "code",
   "execution_count": null,
   "metadata": {},
   "outputs": [],
   "source": [
    "for x in range(3, 6):\n",
    "  print(x)"
   ]
  },
  {
   "cell_type": "markdown",
   "metadata": {},
   "source": [
    "- The range() function defaults to increment the sequence by 1, however it is possible to specify the increment value by adding a third parameter: range(2, 30, 3):"
   ]
  },
  {
   "cell_type": "code",
   "execution_count": null,
   "metadata": {},
   "outputs": [],
   "source": [
    "for x in range(3, 10, 2):\n",
    "  print(x)"
   ]
  },
  {
   "cell_type": "markdown",
   "metadata": {},
   "source": [
    "- The range function can be used to generate a sequence with numbers in descending order\n"
   ]
  },
  {
   "cell_type": "code",
   "execution_count": null,
   "metadata": {},
   "outputs": [],
   "source": [
    "for x in range(10, 1, -2):\n",
    "    print(x)"
   ]
  },
  {
   "cell_type": "markdown",
   "metadata": {},
   "source": [
    "### Exercise:\n",
    "- Use for loop to print the numbers from 1 to 10 and their squares in a table that has two columns: the number and its square.\n"
   ]
  },
  {
   "cell_type": "code",
   "execution_count": null,
   "metadata": {},
   "outputs": [],
   "source": [
    "print(\"Number\\tSquare\")\n",
    "print(\"------\\t-------\")\n",
    "for number in range(1, 11):\n",
    "    square = number ** 2\n",
    "    print(f\"{number}\\t{square}\")"
   ]
  },
  {
   "cell_type": "markdown",
   "metadata": {},
   "source": [
    "## Accumulator\n",
    "It is a variable  used to keep the running total of numbers that accumulates with each iteration.\n"
   ]
  },
  {
   "cell_type": "markdown",
   "metadata": {},
   "source": [
    "### write a program to calculate the total of the numbers from 5 to 15"
   ]
  },
  {
   "cell_type": "code",
   "execution_count": null,
   "metadata": {},
   "outputs": [],
   "source": [
    "\n",
    "sum = 0\n",
    "\n",
    "for number in range(5, 16):\n",
    "    sum += number\n",
    "\n",
    "print(f\"The total of the numbers from 5 to 15 is {sum}.\")"
   ]
  },
  {
   "cell_type": "markdown",
   "metadata": {},
   "source": [
    "### write a program to calculate the total of the even numbers between 5 to 15"
   ]
  },
  {
   "cell_type": "code",
   "execution_count": 35,
   "metadata": {},
   "outputs": [
    {
     "name": "stdout",
     "output_type": "stream",
     "text": [
      "The total of the even numbers between 5 to 15 is 50.\n"
     ]
    }
   ],
   "source": [
    "sum = 0\n",
    "for x in range(5,16):\n",
    "    if x % 2 == 0:\n",
    "        sum = sum + x\n",
    "print(f\"The total of the even numbers between 5 to 15 is {sum}.\")"
   ]
  },
  {
   "cell_type": "code",
   "execution_count": 38,
   "metadata": {},
   "outputs": [
    {
     "name": "stdout",
     "output_type": "stream",
     "text": [
      "The total of the even numbers between 5 to 15 is 50.\n"
     ]
    }
   ],
   "source": [
    "sum = 0\n",
    "for x in range(6,16,2):\n",
    "    sum = sum + x\n",
    "print(f\"The total of the even numbers between 5 to 15 is {sum}.\")"
   ]
  },
  {
   "cell_type": "markdown",
   "metadata": {},
   "source": [
    "### write a program to calculate the average of the numbers 5,33,2,1,8,55"
   ]
  },
  {
   "cell_type": "code",
   "execution_count": 40,
   "metadata": {},
   "outputs": [
    {
     "name": "stdout",
     "output_type": "stream",
     "text": [
      "The average is 17.33.\n"
     ]
    }
   ],
   "source": [
    "sum = 0 \n",
    "for x in [5,33,2,1,8,55]:\n",
    "    sum += x;\n",
    "avg = sum / 6\n",
    "print(f\"The average is {avg:.2f}\")"
   ]
  },
  {
   "cell_type": "markdown",
   "metadata": {},
   "source": [
    "### write a program to read 10 integers from user and print the average."
   ]
  },
  {
   "cell_type": "code",
   "execution_count": 41,
   "metadata": {},
   "outputs": [
    {
     "name": "stdout",
     "output_type": "stream",
     "text": [
      "The average is 3.50.\n"
     ]
    }
   ],
   "source": [
    "sum = 0\n",
    "for i in range(10):\n",
    "    x = int(input('Enter a number: '))\n",
    "    sum += x\n",
    "avg = sum /10\n",
    "print(f\"The average is {avg:.2f}\")"
   ]
  },
  {
   "cell_type": "markdown",
   "metadata": {},
   "source": [
    "## The Augmented Assignment Operators"
   ]
  },
  {
   "cell_type": "markdown",
   "metadata": {},
   "source": [
    "Operator    Example\t        Same As\t\n",
    "=\t        x = 5\t        x = 5\t\n",
    "+=\t        x += 3\t        x = x + 3\t\n",
    "-=\t        x -= 3\t        x = x - 3\t\n",
    "*=\t        x *= 3\t        x = x * 3\t\n",
    "/=\t        x /= 3\t        x = x / 3\t\n",
    "%=\t        x %= 3\t        x = x % 3"
   ]
  },
  {
   "cell_type": "markdown",
   "metadata": {},
   "source": [
    "## Nested Loops\n",
    "A nested loop is a loop inside a loop."
   ]
  },
  {
   "cell_type": "code",
   "execution_count": null,
   "metadata": {},
   "outputs": [],
   "source": [
    "adj = [\"red\", \"big\", \"tasty\"]\n",
    "fruits = [\"apple\", \"banana\", \"cherry\"]\n",
    "\n",
    "for x in adj:\n",
    "  for y in fruits:\n",
    "    print(x, y)"
   ]
  },
  {
   "cell_type": "code",
   "execution_count": null,
   "metadata": {},
   "outputs": [],
   "source": [
    "for x in range (1,5):\n",
    "    for y in range (1, 5):\n",
    "        print(x, y)\n",
    "        "
   ]
  },
  {
   "cell_type": "markdown",
   "metadata": {},
   "source": [
    "### Example: write a program to to display the following pattern:\n",
    "*******\n",
    "*******\n",
    "*******\n",
    "*******\n",
    "*******"
   ]
  },
  {
   "cell_type": "code",
   "execution_count": null,
   "metadata": {},
   "outputs": [],
   "source": [
    "for row in range(6): # for each line\n",
    "    for col in range(8): # print a line\n",
    "        print('*',end='')\n",
    "    print('\\n')\n"
   ]
  },
  {
   "cell_type": "markdown",
   "metadata": {},
   "source": [
    "### Example: write a program to calculate the average score for  each one of 10 students, where each students has three tests."
   ]
  },
  {
   "cell_type": "code",
   "execution_count": 59,
   "metadata": {},
   "outputs": [
    {
     "name": "stdout",
     "output_type": "stream",
     "text": [
      "Enter the scores for student 1:\n",
      "The average for student number 1 is 22.00\n",
      "Enter the scores for student 2:\n",
      "The average for student number 2 is 55.00\n",
      "Student\tAverage\n",
      "------\t---------\n",
      " 1 \t 22.00\n",
      " 2 \t 55.00\n"
     ]
    }
   ],
   "source": [
    "# Initialize a list to store the average scores of the students\n",
    "average_scores = []\n",
    "\n",
    "# Loop through each student\n",
    "for student in range(1, 3):\n",
    "    print(f\"Enter the scores for student {student}:\")\n",
    "    \n",
    "    # Initialize the total score for the current student\n",
    "    total_score = 0\n",
    "    \n",
    "    # Loop through each test for the current student\n",
    "    for test in range(1, 4):\n",
    "        score = float(input(f\"  Test {test} score: \"))\n",
    "        total_score += score\n",
    "    \n",
    "    # Calculate the average score for the current student\n",
    "    average_score = total_score / 3\n",
    "    print(f\"The average for student number {student} is {average_score:.2f}\")\n",
    "    average_scores.append(average_score)\n",
    "    \n",
    "print(f\"Student\\tAverage\")\n",
    "print(f\"------\\t---------\")\n",
    "for i in range (2):\n",
    "    print(f\" {i+1} \\t {average_scores[i]:.2f}\")"
   ]
  },
  {
   "cell_type": "markdown",
   "metadata": {},
   "source": [
    "### Write a program that calculates the total of the factorials for numbers from 1 to 10.\n"
   ]
  },
  {
   "cell_type": "code",
   "execution_count": 60,
   "metadata": {},
   "outputs": [
    {
     "name": "stdout",
     "output_type": "stream",
     "text": [
      "The total of the factorials for numbers from 1 to 10 is 4037913.\n"
     ]
    }
   ],
   "source": [
    "# Initialize the total variable\n",
    "total = 0\n",
    "\n",
    "# Loop through each number from 1 to 10\n",
    "for number in range(1, 11):\n",
    "    # Calculate the factorial of the current number\n",
    "    factorial = 1\n",
    "    for i in range(1, number + 1):\n",
    "        factorial *= i\n",
    "    \n",
    "    # Add the factorial to the total\n",
    "    total += factorial\n",
    "\n",
    "# Print the total of the factorials\n",
    "print(f\"The total of the factorials for numbers from 1 to 10 is {total}.\")\n"
   ]
  },
  {
   "cell_type": "markdown",
   "metadata": {},
   "source": [
    "## Break statement in Nested loop\n",
    "**In a nested loop, a break statement only stops the loop it is placed in. Therefore, if a break is placed in the inner loop, the outer loop still continues. However, if the break is placed in the outer loop, all of the looping stops.**\n"
   ]
  },
  {
   "cell_type": "code",
   "execution_count": null,
   "metadata": {},
   "outputs": [],
   "source": [
    "for i in range (1,6):\n",
    "    for j in range (1,8):\n",
    "        if j==3:\n",
    "            break\n",
    "        print(i,j)\n",
    "print('Done!')"
   ]
  },
  {
   "cell_type": "markdown",
   "metadata": {},
   "source": []
  }
 ],
 "metadata": {
  "kernelspec": {
   "display_name": "Python 3",
   "language": "python",
   "name": "python3"
  },
  "language_info": {
   "codemirror_mode": {
    "name": "ipython",
    "version": 3
   },
   "file_extension": ".py",
   "mimetype": "text/x-python",
   "name": "python",
   "nbconvert_exporter": "python",
   "pygments_lexer": "ipython3",
   "version": "3.12.6"
  }
 },
 "nbformat": 4,
 "nbformat_minor": 2
}
